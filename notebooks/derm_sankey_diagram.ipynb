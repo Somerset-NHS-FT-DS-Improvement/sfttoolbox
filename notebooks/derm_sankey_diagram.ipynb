{
 "cells":[
  {
   "cell_type":"code",
   "source":[
    "import networkx as nx\n",
    "from typing import Any\n",
    "\n",
    "from plotly import graph_objects as go"
   ],
   "execution_count":1,
   "outputs":[
    
   ],
   "metadata":{
    "datalore":{
     "node_id":"2l9eZwEllwdjyIXZsM25EA",
     "type":"CODE",
     "hide_input_from_viewers":true,
     "hide_output_from_viewers":true
    }
   }
  },
  {
   "cell_type":"code",
   "source":[
    "\n",
    "colors = {\n",
    "    \"total\": \"RGBA(0,120,156,1)\", # #00789c Blue\n",
    "    \"cancer\": \"RGBA(209,73,91,1)\", # #d1495b Red\n",
    "    \"telederm\": \"RGBA(142,65,186,1)\", # #8e41ba Purple\n",
    "    \"intermediate_service\": \"rgba(102,161,130,1)\", # #66a182 Green\n",
    "}\n",
    "transparent_colors = {k:v[:-2]+\"0.5)\" for k,v in colors.items()}\n",
    "\n",
    "# South Somerset                    - 2WW: 12% \/ Teledermatology: 40%\n",
    "# Sedgemoor                         - 2WW: 60% \/ Teledermatology: 88%\n",
    "# Somerset West and Taunton         - 2WW: 11% \/ Teledermatology: 89%\n",
    "# Mendip                            - 2WW: 44% \/ Teledermatology: 56%\n",
    "\n",
    "# Somerset Total                    - 2WW: 42% \/ Teledermatology: 58%\n",
    "# Overall Total                     - 2WW: 43% \/ Teledermatology: 57%\n",
    "\n",
    "\n",
    "edges = [\n",
    "    (\"Total Referrals\", \"2WW Cancer\", {\"color\": transparent_colors[\"total\"], \"weight\": 43}), # manually changed this figure for Area\n",
    "    (\"Total Referrals\", \"Teledermatology\", {\"color\": transparent_colors[\"total\"], \"weight\": 57}), # manually changed this figure for Area\n",
    "\n",
    "    (\"2WW Cancer\", \"Reviewed by AI\", {\"color\": transparent_colors[\"cancer\"], \"weight\": 85}),\n",
    "    (\"2WW Cancer\", \"Reviewed by Consultant\", {\"color\": transparent_colors[\"cancer\"], \"weight\": 15}),\n",
    "\n",
    "    (\"Reviewed by AI\", \"Face to Face\", {\"color\": transparent_colors[\"cancer\"], \"weight\": 65}),\n",
    "    (\"Reviewed by AI\", \"Discharged\", {\"color\": transparent_colors[\"cancer\"], \"weight\": 35}),\n",
    "\n",
    "    (\"Face to Face\",\"Discharged\",  {\"color\": transparent_colors[\"cancer\"], \"weight\": 100}),\n",
    "\n",
    "    (\"Reviewed by Consultant\", \"Face to Face\", {\"color\": transparent_colors[\"cancer\"], \"weight\": 65}),\n",
    "    (\"Reviewed by Consultant\", \"Discharged\", {\"color\": transparent_colors[\"cancer\"], \"weight\": 35}),\n",
    "\n",
    "    (\"Face to Face\",\"Discharged\",  {\"color\": transparent_colors[\"cancer\"], \"weight\": 100}), \n",
    "\n",
    "    (\"Teledermatology\", \"2WW Cancer\", {\"color\": transparent_colors[\"cancer\"], \"weight\": 10}), \n",
    "    (\"Teledermatology\", \"A&G\", {\"color\": transparent_colors[\"telederm\"], \"weight\": 50}),\n",
    "    (\"Teledermatology\", \"Specialist Referral\", {\"color\": transparent_colors[\"cancer\"], \"weight\": 5}),\n",
    "    (\"Teledermatology\", \"Intermediate Service\", {\"color\": transparent_colors[\"telederm\"], \"weight\": 35}),\n",
    "\n",
    "    (\"A&G\", \"Discharged\", {\"color\": transparent_colors[\"telederm\"], \"weight\": 100}),    \n",
    "\n",
    "    (\"Intermediate Service\", \"Face to Face\", {\"color\": transparent_colors[\"intermediate_service\"], \"weight\": 63}),\n",
    "    (\"Intermediate Service\", \"Telephone Appt\", {\"color\": transparent_colors[\"intermediate_service\"], \"weight\": 37}),\n",
    "\n",
    "    (\"Face to Face\", \"Discharged\", {\"color\": transparent_colors[\"intermediate_service\"], \"weight\": 73}),\n",
    "    (\"Face to Face\", \"Follow-up\", {\"color\": transparent_colors[\"intermediate_service\"], \"weight\": 4}),\n",
    "    (\"Face to Face\", \"Minor Surgery\", {\"color\": transparent_colors[\"intermediate_service\"], \"weight\": 11}),\n",
    "    (\"Face to Face\", \"Specialist Referral\", {\"color\": transparent_colors[\"cancer\"], \"weight\": 12}),\n",
    "\n",
    "    (\"Minor Surgery\", \"Discharged\", {\"color\": transparent_colors[\"intermediate_service\"], \"weight\": 98}),\n",
    "    (\"Minor Surgery\", \"Follow-up\", {\"color\": transparent_colors[\"intermediate_service\"], \"weight\": 2}),\n",
    "\n",
    "    (\"Follow-up\", \"Discharged\", {\"color\": transparent_colors[\"intermediate_service\"], \"weight\": 100}),\n",
    "\n",
    "    (\"Specialist Referral\", \"Max Fax & Plastics\", {\"color\": transparent_colors[\"cancer\"], \"weight\": 84}),\n",
    "    (\"Specialist Referral\", \"Dermatology\", {\"color\": transparent_colors[\"cancer\"], \"weight\": 16}),\n",
    "\n",
    "    (\"Max Fax & Plastics\", \"Discharged\", {\"color\": transparent_colors[\"cancer\"], \"weight\": 100}),\n",
    "\n",
    "    (\"Dermatology\", \"Discharged\", {\"color\": transparent_colors[\"cancer\"], \"weight\": 100}),\n",
    "\n",
    "    (\"Telephone Appt\", \"Minor Surgery\", {\"color\": transparent_colors[\"intermediate_service\"], \"weight\": 75}),\n",
    "    (\"Telephone Appt\", \"Phototherapy\", {\"color\": transparent_colors[\"intermediate_service\"], \"weight\": 20}),\n",
    "    (\"Telephone Appt\", \"Other\", {\"color\": transparent_colors[\"intermediate_service\"], \"weight\": 5}),\n",
    "\n",
    "    (\"Minor Surgery\", \"Discharged\", {\"color\": transparent_colors[\"intermediate_service\"], \"weight\": 98}),\n",
    "    (\"Minor Surgery\", \"Follow-up\", {\"color\": transparent_colors[\"intermediate_service\"], \"weight\": 2}),\n",
    "\n",
    "    (\"Follow-up\", \"Discharged\", {\"color\": transparent_colors[\"intermediate_service\"], \"weight\": 100}),\n",
    "\n",
    "    (\"Phototherapy\", \"Discharged\", {\"color\": transparent_colors[\"intermediate_service\"], \"weight\": 100}),\n",
    "\n",
    "    (\"Other\", \"Discharged\", {\"color\": transparent_colors[\"intermediate_service\"], \"weight\": 100}),\n",
    "\n",
    "]\n",
    "\n",
    "nodes = [\n",
    "    (\"Total Referrals\", {\"color\": colors[\"total\"]}),\n",
    "    (\"2WW Cancer\", {\"color\": colors[\"cancer\"]}),\n",
    "    (\"Face to Face\", {\"color\": colors[\"intermediate_service\"]}),\n",
    "    (\"Teledermatology\", {\"color\": colors[\"telederm\"]}),\n",
    "    (\"A&G\", {\"color\": colors[\"telederm\"]}),\n",
    "    (\"Specialist Referral\", {\"color\": colors[\"cancer\"]}),\n",
    "    (\"Intermediate Service\", {\"color\": colors[\"intermediate_service\"]}),\n",
    "    (\"Discharged\", {\"color\": colors[\"intermediate_service\"]}),\n",
    "    (\"Follow-up\", {\"color\": colors[\"intermediate_service\"]}),\n",
    "    (\"Minor Surgery\", {\"color\": colors[\"intermediate_service\"]}),\n",
    "    (\"Max Fax & Plastics\", {\"color\": colors[\"intermediate_service\"]}),\n",
    "    (\"Dermatology\", {\"color\": colors[\"intermediate_service\"]}),\n",
    "    (\"Telephone Appt\", {\"color\": colors[\"intermediate_service\"]}),\n",
    "    (\"Phototherapy\", {\"color\": colors[\"intermediate_service\"]}),\n",
    "    (\"Other\", {\"color\": colors[\"intermediate_service\"]}),\n",
    "    (\"Reviewed by Consultant\", {\"color\": colors[\"cancer\"]}),\n",
    "    (\"Reviewed by AI\", {\"color\": colors[\"cancer\"]}),    \n",
    "\n",
    "    \n",
    "]\n",
    "\n",
    "G = nx.DiGraph()\n",
    "G.add_edges_from(edges)\n",
    "G.add_nodes_from(nodes)"
   ],
   "execution_count":2,
   "outputs":[
    
   ],
   "metadata":{
    "datalore":{
     "node_id":"CT8u5Ig9SK02xjkWd37Ily",
     "type":"CODE",
     "hide_input_from_viewers":true,
     "hide_output_from_viewers":true
    }
   }
  },
  {
   "cell_type":"code",
   "source":[
    "nx.draw(G, with_labels=True)"
   ],
   "execution_count":3,
   "outputs":[
    {
     "data":{
      "image\/png":"[encoded data removed]"
     },
     "metadata":{
      "image\/png":{
       
      }
     },
     "output_type":"display_data"
    }
   ],
   "metadata":{
    "datalore":{
     "node_id":"B5aTBg7RJ6XBP0udE3Uv8X",
     "type":"CODE",
     "hide_input_from_viewers":true,
     "hide_output_from_viewers":true
    }
   }
  },
  {
   "cell_type":"code",
   "source":[
    "# start with parent node\n",
    "#  multiply number by weight for each descendent edge\n",
    "#  set node attribute to be number\n",
    "#  continue until all descendents have been allocated\n",
    "\n",
    "def calculate_graph_values(G: nx.DiGraph, parent_node: Any, value: float) -> None:\n",
    "    \"\"\"\n",
    "    Recursively calculates and updates the values of nodes in a weighted directed graph.\n",
    "\n",
    "    Parameters:\n",
    "    - G (nx.DiGraph): The weighted directed graph.\n",
    "    - parent_node (Any): The current parent node for which the values are being calculated.\n",
    "    - value (float): The initial value to be assigned to the parent node.\n",
    "\n",
    "    Returns:\n",
    "    None\n",
    "\n",
    "    This function traverses the graph recursively, updating the \"value\" attribute of each node based on\n",
    "    the weighted distribution of values to its children. The weights of edges from the parent node to its\n",
    "    children should add up to 100. The calculation is performed in a depth-first manner.\n",
    "    \"\"\"\n",
    "    children = G[parent_node]\n",
    "    G.nodes[parent_node][\"value\"] = G.nodes[parent_node].get(\"value\", 0) + value\n",
    "\n",
    "    if not children:\n",
    "        pass\n",
    "    else:\n",
    "        # check weights add to 100\n",
    "        assert sum([G.edges[(parent_node, child)][\"weight\"] for child in G[parent_node]]) == 100, \\\n",
    "        f\"Weights do not add up to 100% for the children of {parent_node}\"\n",
    "\n",
    "        for child in children:\n",
    "            w = G.edges[(parent_node, child)][\"weight\"]\n",
    "            new_val = value * (w\/100)\n",
    "\n",
    "            G.edges[(parent_node, child)][\"value\"] = G.edges[(parent_node, child)].get(\"value\", 0) + new_val\n",
    "\n",
    "            calculate_graph_values(G, child, new_val)\n",
    "\n",
    "    return"
   ],
   "execution_count":4,
   "outputs":[
    
   ],
   "metadata":{
    "datalore":{
     "node_id":"d02i80PM3BcznMbvNNKw7V",
     "type":"CODE",
     "hide_input_from_viewers":true,
     "hide_output_from_viewers":true
    }
   }
  },
  {
   "cell_type":"code",
   "source":[
    "def generate_sankey(G: nx.Graph) -> None:\n",
    "    \"\"\"\n",
    "    Generate a Sankey diagram for the given graph.\n",
    "\n",
    "    Parameters:\n",
    "    - G (nx.Graph): The input graph.\n",
    "\n",
    "    Returns:\n",
    "    - None\n",
    "\n",
    "    This function takes a NetworkX graph (G) as input and generates a Sankey diagram to visualize the flow of values\n",
    "    within the graph. It creates a Sankey diagram using Plotly's Sankey implementation.\n",
    "\n",
    "    The Sankey diagram displays nodes and directed links representing flows of values. Nodes represent the entities\n",
    "    in the graph, and links represent the connections or flow between them. The width of the links corresponds to\n",
    "    the magnitude of the flow between nodes.\n",
    "    \"\"\"\n",
    "    sources, targets = [*zip(*G.edges)]\n",
    "    nodes = list(G.nodes)\n",
    "\n",
    "    get_node_indices = lambda node_list : [idx for node in node_list for idx, val in enumerate(nodes) if val == node]\n",
    "\n",
    "    fig = go.Figure(data=[go.Sankey(\n",
    "        node = dict(\n",
    "        pad = 15,\n",
    "        thickness = 10,\n",
    "        line = dict(color = \"black\", width = 0.5),\n",
    "        label = [f\"{node} {int(round(val, 0))}\" for node, val in nx.get_node_attributes(G, \"value\").items()],\n",
    "        color = list(nx.get_node_attributes(G, \"color\").values())\n",
    "        ),\n",
    "        link = dict(\n",
    "        source = get_node_indices(sources), \n",
    "        target = get_node_indices(targets),\n",
    "        value = list(nx.get_edge_attributes(G_south_somerset, \"value\").values()),\n",
    "        color = list(nx.get_edge_attributes(G, \"color\").values())\n",
    "    ))])\n",
    "\n",
    "    fig.update_layout(title_text=\"Somerset Dermatology Totals\")\n",
    "    fig.show()"
   ],
   "execution_count":5,
   "outputs":[
    
   ],
   "metadata":{
    "datalore":{
     "node_id":"y25sdnQYiSzF5januKbTyA",
     "type":"CODE",
     "hide_input_from_viewers":true,
     "hide_output_from_viewers":true
    }
   }
  },
  {
   "cell_type":"code",
   "source":[
    "G_south_somerset = G.copy()\n",
    "calculate_graph_values(G_south_somerset, parent_node=\"Total Referrals\", value=18989)\n",
    "generate_sankey(G_south_somerset)"
   ],
   "execution_count":6,
   "outputs":[
    {
     "data":{
      "application\/vnd.plotly.v1+json":{
       "data":[
        {
         "link":{
          "color":[
           "RGBA(0,120,156,0.5)",
           "RGBA(0,120,156,0.5)",
           "RGBA(209,73,91,0.5)",
           "RGBA(209,73,91,0.5)",
           "RGBA(209,73,91,0.5)",
           "RGBA(142,65,186,0.5)",
           "RGBA(209,73,91,0.5)",
           "RGBA(142,65,186,0.5)",
           "RGBA(209,73,91,0.5)",
           "RGBA(209,73,91,0.5)",
           "RGBA(209,73,91,0.5)",
           "RGBA(209,73,91,0.5)",
           "rgba(102,161,130,0.5)",
           "rgba(102,161,130,0.5)",
           "rgba(102,161,130,0.5)",
           "RGBA(209,73,91,0.5)",
           "RGBA(142,65,186,0.5)",
           "RGBA(209,73,91,0.5)",
           "RGBA(209,73,91,0.5)",
           "rgba(102,161,130,0.5)",
           "rgba(102,161,130,0.5)",
           "rgba(102,161,130,0.5)",
           "rgba(102,161,130,0.5)",
           "rgba(102,161,130,0.5)",
           "rgba(102,161,130,0.5)",
           "rgba(102,161,130,0.5)",
           "rgba(102,161,130,0.5)",
           "RGBA(209,73,91,0.5)",
           "RGBA(209,73,91,0.5)",
           "rgba(102,161,130,0.5)",
           "rgba(102,161,130,0.5)"
          ],
          "source":[
           0,
           0,
           1,
           1,
           2,
           2,
           2,
           2,
           3,
           3,
           4,
           4,
           5,
           5,
           5,
           5,
           7,
           8,
           8,
           9,
           9,
           10,
           10,
           10,
           11,
           12,
           12,
           13,
           14,
           15,
           16
          ],
          "target":[
           1,
           2,
           3,
           4,
           1,
           7,
           8,
           9,
           5,
           6,
           5,
           6,
           6,
           11,
           12,
           8,
           6,
           13,
           14,
           5,
           10,
           12,
           15,
           16,
           6,
           6,
           11,
           6,
           6,
           6,
           6
          ],
          "value":[
           8165.2699999999995,
           10823.73,
           7860.49655,
           1387.1464499999997,
           1082.373,
           5411.865,
           541.1865,
           3788.3054999999995,
           5109.3227575,
           2751.1737924999998,
           901.6451924999999,
           485.50125749999995,
           6130.248302949999,
           335.9040166,
           923.73604565,
           1007.7120497999998,
           5411.865,
           1301.0747818319996,
           247.823767968,
           2386.6324649999997,
           1401.6730349999998,
           1051.2547762499998,
           280.33460699999995,
           70.08365174999999,
           375.40383303799996,
           1935.4910054619997,
           39.499816437999996,
           1301.0747818319996,
           247.823767968,
           280.33460699999995,
           70.08365174999999
          ]
         },
         "node":{
          "color":[
           "RGBA(0,120,156,1)",
           "RGBA(209,73,91,1)",
           "RGBA(142,65,186,1)",
           "RGBA(209,73,91,1)",
           "RGBA(209,73,91,1)",
           "rgba(102,161,130,1)",
           "rgba(102,161,130,1)",
           "RGBA(142,65,186,1)",
           "RGBA(209,73,91,1)",
           "rgba(102,161,130,1)",
           "rgba(102,161,130,1)",
           "rgba(102,161,130,1)",
           "rgba(102,161,130,1)",
           "rgba(102,161,130,1)",
           "rgba(102,161,130,1)",
           "rgba(102,161,130,1)",
           "rgba(102,161,130,1)"
          ],
          "label":[
           "Total Referrals 18989",
           "2WW Cancer 9248",
           "Teledermatology 10824",
           "Reviewed by AI 7860",
           "Reviewed by Consultant 1387",
           "Face to Face 8398",
           "Discharged 18989",
           "A&G 5412",
           "Specialist Referral 1549",
           "Intermediate Service 3788",
           "Telephone Appt 1402",
           "Follow-up 375",
           "Minor Surgery 1975",
           "Max Fax & Plastics 1301",
           "Dermatology 248",
           "Phototherapy 280",
           "Other 70"
          ],
          "line":{
           "color":"black",
           "width":0.5
          },
          "pad":15,
          "thickness":10
         },
         "type":"sankey"
        }
       ],
       "layout":{
        "template":{
         "data":{
          "histogram2dcontour":[
           {
            "type":"histogram2dcontour",
            "colorbar":{
             "outlinewidth":0,
             "ticks":""
            },
            "colorscale":[
             [
              0,
              "#0d0887"
             ],
             [
              0.1111111111111111,
              "#46039f"
             ],
             [
              0.2222222222222222,
              "#7201a8"
             ],
             [
              0.3333333333333333,
              "#9c179e"
             ],
             [
              0.4444444444444444,
              "#bd3786"
             ],
             [
              0.5555555555555556,
              "#d8576b"
             ],
             [
              0.6666666666666666,
              "#ed7953"
             ],
             [
              0.7777777777777778,
              "#fb9f3a"
             ],
             [
              0.8888888888888888,
              "#fdca26"
             ],
             [
              1,
              "#f0f921"
             ]
            ]
           }
          ],
          "choropleth":[
           {
            "type":"choropleth",
            "colorbar":{
             "outlinewidth":0,
             "ticks":""
            }
           }
          ],
          "histogram2d":[
           {
            "type":"histogram2d",
            "colorbar":{
             "outlinewidth":0,
             "ticks":""
            },
            "colorscale":[
             [
              0,
              "#0d0887"
             ],
             [
              0.1111111111111111,
              "#46039f"
             ],
             [
              0.2222222222222222,
              "#7201a8"
             ],
             [
              0.3333333333333333,
              "#9c179e"
             ],
             [
              0.4444444444444444,
              "#bd3786"
             ],
             [
              0.5555555555555556,
              "#d8576b"
             ],
             [
              0.6666666666666666,
              "#ed7953"
             ],
             [
              0.7777777777777778,
              "#fb9f3a"
             ],
             [
              0.8888888888888888,
              "#fdca26"
             ],
             [
              1,
              "#f0f921"
             ]
            ]
           }
          ],
          "heatmap":[
           {
            "type":"heatmap",
            "colorbar":{
             "outlinewidth":0,
             "ticks":""
            },
            "colorscale":[
             [
              0,
              "#0d0887"
             ],
             [
              0.1111111111111111,
              "#46039f"
             ],
             [
              0.2222222222222222,
              "#7201a8"
             ],
             [
              0.3333333333333333,
              "#9c179e"
             ],
             [
              0.4444444444444444,
              "#bd3786"
             ],
             [
              0.5555555555555556,
              "#d8576b"
             ],
             [
              0.6666666666666666,
              "#ed7953"
             ],
             [
              0.7777777777777778,
              "#fb9f3a"
             ],
             [
              0.8888888888888888,
              "#fdca26"
             ],
             [
              1,
              "#f0f921"
             ]
            ]
           }
          ],
          "heatmapgl":[
           {
            "type":"heatmapgl",
            "colorbar":{
             "outlinewidth":0,
             "ticks":""
            },
            "colorscale":[
             [
              0,
              "#0d0887"
             ],
             [
              0.1111111111111111,
              "#46039f"
             ],
             [
              0.2222222222222222,
              "#7201a8"
             ],
             [
              0.3333333333333333,
              "#9c179e"
             ],
             [
              0.4444444444444444,
              "#bd3786"
             ],
             [
              0.5555555555555556,
              "#d8576b"
             ],
             [
              0.6666666666666666,
              "#ed7953"
             ],
             [
              0.7777777777777778,
              "#fb9f3a"
             ],
             [
              0.8888888888888888,
              "#fdca26"
             ],
             [
              1,
              "#f0f921"
             ]
            ]
           }
          ],
          "contourcarpet":[
           {
            "type":"contourcarpet",
            "colorbar":{
             "outlinewidth":0,
             "ticks":""
            }
           }
          ],
          "contour":[
           {
            "type":"contour",
            "colorbar":{
             "outlinewidth":0,
             "ticks":""
            },
            "colorscale":[
             [
              0,
              "#0d0887"
             ],
             [
              0.1111111111111111,
              "#46039f"
             ],
             [
              0.2222222222222222,
              "#7201a8"
             ],
             [
              0.3333333333333333,
              "#9c179e"
             ],
             [
              0.4444444444444444,
              "#bd3786"
             ],
             [
              0.5555555555555556,
              "#d8576b"
             ],
             [
              0.6666666666666666,
              "#ed7953"
             ],
             [
              0.7777777777777778,
              "#fb9f3a"
             ],
             [
              0.8888888888888888,
              "#fdca26"
             ],
             [
              1,
              "#f0f921"
             ]
            ]
           }
          ],
          "surface":[
           {
            "type":"surface",
            "colorbar":{
             "outlinewidth":0,
             "ticks":""
            },
            "colorscale":[
             [
              0,
              "#0d0887"
             ],
             [
              0.1111111111111111,
              "#46039f"
             ],
             [
              0.2222222222222222,
              "#7201a8"
             ],
             [
              0.3333333333333333,
              "#9c179e"
             ],
             [
              0.4444444444444444,
              "#bd3786"
             ],
             [
              0.5555555555555556,
              "#d8576b"
             ],
             [
              0.6666666666666666,
              "#ed7953"
             ],
             [
              0.7777777777777778,
              "#fb9f3a"
             ],
             [
              0.8888888888888888,
              "#fdca26"
             ],
             [
              1,
              "#f0f921"
             ]
            ]
           }
          ],
          "mesh3d":[
           {
            "type":"mesh3d",
            "colorbar":{
             "outlinewidth":0,
             "ticks":""
            }
           }
          ],
          "scatter":[
           {
            "fillpattern":{
             "fillmode":"overlay",
             "size":10,
             "solidity":0.2
            },
            "type":"scatter"
           }
          ],
          "parcoords":[
           {
            "type":"parcoords",
            "line":{
             "colorbar":{
              "outlinewidth":0,
              "ticks":""
             }
            }
           }
          ],
          "scatterpolargl":[
           {
            "type":"scatterpolargl",
            "marker":{
             "colorbar":{
              "outlinewidth":0,
              "ticks":""
             }
            }
           }
          ],
          "bar":[
           {
            "error_x":{
             "color":"#2a3f5f"
            },
            "error_y":{
             "color":"#2a3f5f"
            },
            "marker":{
             "line":{
              "color":"#E5ECF6",
              "width":0.5
             },
             "pattern":{
              "fillmode":"overlay",
              "size":10,
              "solidity":0.2
             }
            },
            "type":"bar"
           }
          ],
          "scattergeo":[
           {
            "type":"scattergeo",
            "marker":{
             "colorbar":{
              "outlinewidth":0,
              "ticks":""
             }
            }
           }
          ],
          "scatterpolar":[
           {
            "type":"scatterpolar",
            "marker":{
             "colorbar":{
              "outlinewidth":0,
              "ticks":""
             }
            }
           }
          ],
          "histogram":[
           {
            "marker":{
             "pattern":{
              "fillmode":"overlay",
              "size":10,
              "solidity":0.2
             }
            },
            "type":"histogram"
           }
          ],
          "scattergl":[
           {
            "type":"scattergl",
            "marker":{
             "colorbar":{
              "outlinewidth":0,
              "ticks":""
             }
            }
           }
          ],
          "scatter3d":[
           {
            "type":"scatter3d",
            "line":{
             "colorbar":{
              "outlinewidth":0,
              "ticks":""
             }
            },
            "marker":{
             "colorbar":{
              "outlinewidth":0,
              "ticks":""
             }
            }
           }
          ],
          "scattermapbox":[
           {
            "type":"scattermapbox",
            "marker":{
             "colorbar":{
              "outlinewidth":0,
              "ticks":""
             }
            }
           }
          ],
          "scatterternary":[
           {
            "type":"scatterternary",
            "marker":{
             "colorbar":{
              "outlinewidth":0,
              "ticks":""
             }
            }
           }
          ],
          "scattercarpet":[
           {
            "type":"scattercarpet",
            "marker":{
             "colorbar":{
              "outlinewidth":0,
              "ticks":""
             }
            }
           }
          ],
          "carpet":[
           {
            "aaxis":{
             "endlinecolor":"#2a3f5f",
             "gridcolor":"white",
             "linecolor":"white",
             "minorgridcolor":"white",
             "startlinecolor":"#2a3f5f"
            },
            "baxis":{
             "endlinecolor":"#2a3f5f",
             "gridcolor":"white",
             "linecolor":"white",
             "minorgridcolor":"white",
             "startlinecolor":"#2a3f5f"
            },
            "type":"carpet"
           }
          ],
          "table":[
           {
            "cells":{
             "fill":{
              "color":"#EBF0F8"
             },
             "line":{
              "color":"white"
             }
            },
            "header":{
             "fill":{
              "color":"#C8D4E3"
             },
             "line":{
              "color":"white"
             }
            },
            "type":"table"
           }
          ],
          "barpolar":[
           {
            "marker":{
             "line":{
              "color":"#E5ECF6",
              "width":0.5
             },
             "pattern":{
              "fillmode":"overlay",
              "size":10,
              "solidity":0.2
             }
            },
            "type":"barpolar"
           }
          ],
          "pie":[
           {
            "automargin":true,
            "type":"pie"
           }
          ]
         },
         "layout":{
          "autotypenumbers":"strict",
          "colorway":[
           "#636efa",
           "#EF553B",
           "#00cc96",
           "#ab63fa",
           "#FFA15A",
           "#19d3f3",
           "#FF6692",
           "#B6E880",
           "#FF97FF",
           "#FECB52"
          ],
          "font":{
           "color":"#2a3f5f"
          },
          "hovermode":"closest",
          "hoverlabel":{
           "align":"left"
          },
          "paper_bgcolor":"white",
          "plot_bgcolor":"#E5ECF6",
          "polar":{
           "bgcolor":"#E5ECF6",
           "angularaxis":{
            "gridcolor":"white",
            "linecolor":"white",
            "ticks":""
           },
           "radialaxis":{
            "gridcolor":"white",
            "linecolor":"white",
            "ticks":""
           }
          },
          "ternary":{
           "bgcolor":"#E5ECF6",
           "aaxis":{
            "gridcolor":"white",
            "linecolor":"white",
            "ticks":""
           },
           "baxis":{
            "gridcolor":"white",
            "linecolor":"white",
            "ticks":""
           },
           "caxis":{
            "gridcolor":"white",
            "linecolor":"white",
            "ticks":""
           }
          },
          "coloraxis":{
           "colorbar":{
            "outlinewidth":0,
            "ticks":""
           }
          },
          "colorscale":{
           "sequential":[
            [
             0,
             "#0d0887"
            ],
            [
             0.1111111111111111,
             "#46039f"
            ],
            [
             0.2222222222222222,
             "#7201a8"
            ],
            [
             0.3333333333333333,
             "#9c179e"
            ],
            [
             0.4444444444444444,
             "#bd3786"
            ],
            [
             0.5555555555555556,
             "#d8576b"
            ],
            [
             0.6666666666666666,
             "#ed7953"
            ],
            [
             0.7777777777777778,
             "#fb9f3a"
            ],
            [
             0.8888888888888888,
             "#fdca26"
            ],
            [
             1,
             "#f0f921"
            ]
           ],
           "sequentialminus":[
            [
             0,
             "#0d0887"
            ],
            [
             0.1111111111111111,
             "#46039f"
            ],
            [
             0.2222222222222222,
             "#7201a8"
            ],
            [
             0.3333333333333333,
             "#9c179e"
            ],
            [
             0.4444444444444444,
             "#bd3786"
            ],
            [
             0.5555555555555556,
             "#d8576b"
            ],
            [
             0.6666666666666666,
             "#ed7953"
            ],
            [
             0.7777777777777778,
             "#fb9f3a"
            ],
            [
             0.8888888888888888,
             "#fdca26"
            ],
            [
             1,
             "#f0f921"
            ]
           ],
           "diverging":[
            [
             0,
             "#8e0152"
            ],
            [
             0.1,
             "#c51b7d"
            ],
            [
             0.2,
             "#de77ae"
            ],
            [
             0.3,
             "#f1b6da"
            ],
            [
             0.4,
             "#fde0ef"
            ],
            [
             0.5,
             "#f7f7f7"
            ],
            [
             0.6,
             "#e6f5d0"
            ],
            [
             0.7,
             "#b8e186"
            ],
            [
             0.8,
             "#7fbc41"
            ],
            [
             0.9,
             "#4d9221"
            ],
            [
             1,
             "#276419"
            ]
           ]
          },
          "xaxis":{
           "gridcolor":"white",
           "linecolor":"white",
           "ticks":"",
           "title":{
            "standoff":15
           },
           "zerolinecolor":"white",
           "automargin":true,
           "zerolinewidth":2
          },
          "yaxis":{
           "gridcolor":"white",
           "linecolor":"white",
           "ticks":"",
           "title":{
            "standoff":15
           },
           "zerolinecolor":"white",
           "automargin":true,
           "zerolinewidth":2
          },
          "scene":{
           "xaxis":{
            "backgroundcolor":"#E5ECF6",
            "gridcolor":"white",
            "linecolor":"white",
            "showbackground":true,
            "ticks":"",
            "zerolinecolor":"white",
            "gridwidth":2
           },
           "yaxis":{
            "backgroundcolor":"#E5ECF6",
            "gridcolor":"white",
            "linecolor":"white",
            "showbackground":true,
            "ticks":"",
            "zerolinecolor":"white",
            "gridwidth":2
           },
           "zaxis":{
            "backgroundcolor":"#E5ECF6",
            "gridcolor":"white",
            "linecolor":"white",
            "showbackground":true,
            "ticks":"",
            "zerolinecolor":"white",
            "gridwidth":2
           }
          },
          "shapedefaults":{
           "line":{
            "color":"#2a3f5f"
           }
          },
          "annotationdefaults":{
           "arrowcolor":"#2a3f5f",
           "arrowhead":0,
           "arrowwidth":1
          },
          "geo":{
           "bgcolor":"white",
           "landcolor":"#E5ECF6",
           "subunitcolor":"white",
           "showland":true,
           "showlakes":true,
           "lakecolor":"white"
          },
          "title":{
           "x":0.05
          },
          "mapbox":{
           "style":"light"
          }
         }
        },
        "title":{
         "text":"Somerset Dermatology Totals"
        }
       },
       "config":{
        "plotlyServerURL":"https:\/\/plot.ly"
       }
      }
     },
     "metadata":{
      
     },
     "output_type":"display_data"
    }
   ],
   "metadata":{
    "datalore":{
     "node_id":"vwQrmXKx2BkPkb8f6oJOTX",
     "type":"CODE",
     "hide_input_from_viewers":true,
     "hide_output_from_viewers":true
    }
   }
  },
  {
   "cell_type":"code",
   "source":[
    
   ],
   "execution_count":null,
   "outputs":[
    
   ],
   "metadata":{
    "datalore":{
     "node_id":"VemHjuPl3qPQQjsJmkA1hA",
     "type":"CODE",
     "hide_input_from_viewers":true,
     "hide_output_from_viewers":true
    }
   }
  },
  {
   "cell_type":"code",
   "source":[
    
   ],
   "execution_count":null,
   "outputs":[
    
   ],
   "metadata":{
    "datalore":{
     "node_id":"pIrE0LsQ2bd5OcJd9dj0GM",
     "type":"CODE",
     "hide_input_from_viewers":true,
     "hide_output_from_viewers":true
    }
   }
  }
 ],
 "metadata":{
  "kernelspec":{
   "display_name":"Python",
   "language":"python",
   "name":"python"
  },
  "datalore":{
   "computation_mode":"JUPYTER",
   "package_manager":"pip",
   "base_environment":"minimal",
   "packages":[
    
   ],
   "report_row_ids":[
    
   ],
   "version":3
  }
 },
 "nbformat":4,
 "nbformat_minor":4
}